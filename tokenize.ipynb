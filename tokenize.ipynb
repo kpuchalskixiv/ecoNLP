{
 "cells": [
  {
   "cell_type": "code",
   "execution_count": 1,
   "metadata": {},
   "outputs": [],
   "source": [
    "import numpy as np\n",
    "import pandas as pd\n",
    "import matplotlib.pyplot as plt\n",
    "import re\n",
    "from tqdm import tqdm"
   ]
  },
  {
   "cell_type": "code",
   "execution_count": 2,
   "metadata": {},
   "outputs": [],
   "source": [
    "df=pd.read_csv('./data/tweets.csv', names=['index','genre','summary']).drop(columns='index')"
   ]
  },
  {
   "cell_type": "code",
   "execution_count": 6,
   "metadata": {},
   "outputs": [
    {
     "data": {
      "text/html": [
       "<div>\n",
       "<style scoped>\n",
       "    .dataframe tbody tr th:only-of-type {\n",
       "        vertical-align: middle;\n",
       "    }\n",
       "\n",
       "    .dataframe tbody tr th {\n",
       "        vertical-align: top;\n",
       "    }\n",
       "\n",
       "    .dataframe thead th {\n",
       "        text-align: right;\n",
       "    }\n",
       "</style>\n",
       "<table border=\"1\" class=\"dataframe\">\n",
       "  <thead>\n",
       "    <tr style=\"text-align: right;\">\n",
       "      <th></th>\n",
       "      <th>genre</th>\n",
       "      <th>summary</th>\n",
       "    </tr>\n",
       "  </thead>\n",
       "  <tbody>\n",
       "    <tr>\n",
       "      <th>0</th>\n",
       "      <td>0</td>\n",
       "      <td>Starting  back at work today   Looks like it'l...</td>\n",
       "    </tr>\n",
       "    <tr>\n",
       "      <th>1</th>\n",
       "      <td>1</td>\n",
       "      <td>Sugar levels dropping... munchies setting in. ...</td>\n",
       "    </tr>\n",
       "    <tr>\n",
       "      <th>2</th>\n",
       "      <td>1</td>\n",
       "      <td>@karineb22 yeah!!! have a great summer break!</td>\n",
       "    </tr>\n",
       "    <tr>\n",
       "      <th>3</th>\n",
       "      <td>1</td>\n",
       "      <td>hannah montana was very good.  now going to re...</td>\n",
       "    </tr>\n",
       "    <tr>\n",
       "      <th>4</th>\n",
       "      <td>1</td>\n",
       "      <td>@Mayra326 aww, have fun!  I just had my 3D las...</td>\n",
       "    </tr>\n",
       "    <tr>\n",
       "      <th>...</th>\n",
       "      <td>...</td>\n",
       "      <td>...</td>\n",
       "    </tr>\n",
       "    <tr>\n",
       "      <th>149980</th>\n",
       "      <td>0</td>\n",
       "      <td>Had a great night at Tabs but now I'm missing ...</td>\n",
       "    </tr>\n",
       "    <tr>\n",
       "      <th>149981</th>\n",
       "      <td>1</td>\n",
       "      <td>What a night at work.. Church in the morning</td>\n",
       "    </tr>\n",
       "    <tr>\n",
       "      <th>149982</th>\n",
       "      <td>0</td>\n",
       "      <td>this book is terrible  im used 2 reading all  ...</td>\n",
       "    </tr>\n",
       "    <tr>\n",
       "      <th>149983</th>\n",
       "      <td>0</td>\n",
       "      <td>@backstreetboys Updates? Any?  I miss your upd...</td>\n",
       "    </tr>\n",
       "    <tr>\n",
       "      <th>149984</th>\n",
       "      <td>1</td>\n",
       "      <td>@lexiewohlfort I agree!</td>\n",
       "    </tr>\n",
       "  </tbody>\n",
       "</table>\n",
       "<p>149985 rows × 2 columns</p>\n",
       "</div>"
      ],
      "text/plain": [
       "        genre                                            summary\n",
       "0           0  Starting  back at work today   Looks like it'l...\n",
       "1           1  Sugar levels dropping... munchies setting in. ...\n",
       "2           1     @karineb22 yeah!!! have a great summer break! \n",
       "3           1  hannah montana was very good.  now going to re...\n",
       "4           1  @Mayra326 aww, have fun!  I just had my 3D las...\n",
       "...       ...                                                ...\n",
       "149980      0  Had a great night at Tabs but now I'm missing ...\n",
       "149981      1      What a night at work.. Church in the morning \n",
       "149982      0  this book is terrible  im used 2 reading all  ...\n",
       "149983      0  @backstreetboys Updates? Any?  I miss your upd...\n",
       "149984      1                           @lexiewohlfort I agree! \n",
       "\n",
       "[149985 rows x 2 columns]"
      ]
     },
     "execution_count": 6,
     "metadata": {},
     "output_type": "execute_result"
    }
   ],
   "source": [
    "df"
   ]
  },
  {
   "cell_type": "code",
   "execution_count": 3,
   "metadata": {},
   "outputs": [
    {
     "data": {
      "image/png": "[encoded data removed]",
      "text/plain": [
       "<Figure size 640x480 with 1 Axes>"
      ]
     },
     "metadata": {},
     "output_type": "display_data"
    }
   ],
   "source": [
    "names,counts=np.unique(df.genre, return_counts=True)\n",
    "\n",
    "plt.bar(np.arange(df.genre.nunique()),\n",
    "        height=counts)\n",
    "plt.grid()\n",
    "plt.xticks(np.arange(df.genre.nunique()), names, rotation=70)\n",
    "plt.show()"
   ]
  },
  {
   "cell_type": "code",
   "execution_count": null,
   "metadata": {},
   "outputs": [
    {
     "name": "stderr",
     "output_type": "stream",
     "text": [
      "<>:3: SyntaxWarning: invalid escape sequence '\\W'\n",
      "<>:3: SyntaxWarning: invalid escape sequence '\\W'\n",
      "/tmp/ipykernel_8001/738898365.py:3: SyntaxWarning: invalid escape sequence '\\W'\n",
      "  for summary in tqdm(df.summary.map(lambda s: re.split('\\W+',s.strip().lower()))):#[\\n ,.;:]\n",
      "100%|██████████| 4657/4657 [00:04<00:00, 1028.53it/s]\n"
     ]
    },
    {
     "data": {
      "text/plain": [
       "(5750, 55715)"
      ]
     },
     "execution_count": 18,
     "metadata": {},
     "output_type": "execute_result"
    }
   ],
   "source": [
    "vocab=set()\n",
    "max_len=0\n",
    "for summary in tqdm(df.summary.map(lambda s: re.split('\\W+',s.strip().lower()))):#[\\n ,.;:]\n",
    "    vocab=vocab.union(set(summary))\n",
    "    max_len=max(max_len, len(summary))\n",
    "max_len, len(vocab)"
   ]
  },
  {
   "cell_type": "markdown",
   "metadata": {},
   "source": [
    "# custom tokenizer"
   ]
  },
  {
   "cell_type": "code",
   "execution_count": 23,
   "metadata": {},
   "outputs": [],
   "source": [
    "def get_training_corpus():\n",
    "    for i in range(0, df.shape[0], 100):\n",
    "        yield df.summary.values[i : i + 100]"
   ]
  },
  {
   "cell_type": "code",
   "execution_count": 26,
   "metadata": {},
   "outputs": [],
   "source": [
    "from tokenizers import (\n",
    "    decoders,\n",
    "    models,\n",
    "    normalizers,\n",
    "    pre_tokenizers,\n",
    "    processors,\n",
    "    trainers,\n",
    "    Tokenizer,\n",
    ")\n",
    "\n",
    "tokenizer = Tokenizer(models.WordPiece(unk_token=\"[UNK]\"))"
   ]
  },
  {
   "cell_type": "code",
   "execution_count": null,
   "metadata": {},
   "outputs": [],
   "source": [
    "tokenizer.normalizer = normalizers.Sequence(\n",
    "    [normalizers.NFD(), normalizers.Lowercase(), normalizers.StripAccents()]\n",
    ")"
   ]
  },
  {
   "cell_type": "markdown",
   "metadata": {},
   "source": [
    "# gpt2 tokenizer"
   ]
  },
  {
   "cell_type": "code",
   "execution_count": 4,
   "metadata": {},
   "outputs": [
    {
     "name": "stderr",
     "output_type": "stream",
     "text": [
      "/home/kacper/anaconda3/envs/gpu_torch/lib/python3.12/site-packages/tqdm/auto.py:21: TqdmWarning: IProgress not found. Please update jupyter and ipywidgets. See https://ipywidgets.readthedocs.io/en/stable/user_install.html\n",
      "  from .autonotebook import tqdm as notebook_tqdm\n"
     ]
    }
   ],
   "source": [
    "from transformers import GPT2Tokenizer, AutoTokenizer"
   ]
  },
  {
   "cell_type": "code",
   "execution_count": 5,
   "metadata": {},
   "outputs": [],
   "source": [
    "gpt2_tokenizer = GPT2Tokenizer.from_pretrained(\"openai-community/gpt2\")"
   ]
  },
  {
   "cell_type": "code",
   "execution_count": 6,
   "metadata": {},
   "outputs": [
    {
     "data": {
      "text/plain": [
       "torch.Size([149985, 835])"
      ]
     },
     "execution_count": 6,
     "metadata": {},
     "output_type": "execute_result"
    }
   ],
   "source": [
    "gpt2_tokenizer.pad_token = gpt2_tokenizer.eos_token \n",
    "tokenized_summary=gpt2_tokenizer(df.summary.map(lambda x: x.strip().lower()).tolist(),\n",
    "                    return_tensors='pt',\n",
    "                    padding=True)\n",
    "tokenized_summary['input_ids'].shape"
   ]
  },
  {
   "cell_type": "code",
   "execution_count": 7,
   "metadata": {},
   "outputs": [
    {
     "data": {
      "text/plain": [
       "(149985, 835)"
      ]
     },
     "execution_count": 7,
     "metadata": {},
     "output_type": "execute_result"
    }
   ],
   "source": [
    "tokenized_summary['input_ids'].numpy().shape"
   ]
  },
  {
   "cell_type": "code",
   "execution_count": 8,
   "metadata": {},
   "outputs": [
    {
     "data": {
      "text/plain": [
       "{'input_ids': tensor([[38690,   220,   736,  ..., 50256, 50256, 50256],\n",
       "        [   82, 35652,  2974,  ..., 50256, 50256, 50256],\n",
       "        [   31, 21070,   500,  ..., 50256, 50256, 50256],\n",
       "        ...,\n",
       "        [ 5661,  1492,   318,  ..., 50256, 50256, 50256],\n",
       "        [   31,  1891, 25662,  ..., 50256, 50256, 50256],\n",
       "        [   31,  2588,   769,  ..., 50256, 50256, 50256]]), 'attention_mask': tensor([[1, 1, 1,  ..., 0, 0, 0],\n",
       "        [1, 1, 1,  ..., 0, 0, 0],\n",
       "        [1, 1, 1,  ..., 0, 0, 0],\n",
       "        ...,\n",
       "        [1, 1, 1,  ..., 0, 0, 0],\n",
       "        [1, 1, 1,  ..., 0, 0, 0],\n",
       "        [1, 1, 1,  ..., 0, 0, 0]])}"
      ]
     },
     "execution_count": 8,
     "metadata": {},
     "output_type": "execute_result"
    }
   ],
   "source": [
    "tokenized_summary"
   ]
  },
  {
   "cell_type": "code",
   "execution_count": 9,
   "metadata": {},
   "outputs": [
    {
     "data": {
      "text/plain": [
       "(149985, 1, 835)"
      ]
     },
     "execution_count": 9,
     "metadata": {},
     "output_type": "execute_result"
    }
   ],
   "source": [
    "tokenized_summary['input_ids'].numpy().reshape(df.shape[0], 1, -1).shape"
   ]
  },
  {
   "cell_type": "code",
   "execution_count": 17,
   "metadata": {},
   "outputs": [],
   "source": [
    "df['input_ids']=[list(x) for x in tokenized_summary['input_ids'].numpy()]\n",
    "df['att_mask']=[list(x) for x in tokenized_summary['attention_mask'].numpy()]"
   ]
  },
  {
   "cell_type": "code",
   "execution_count": 18,
   "metadata": {},
   "outputs": [],
   "source": [
    "genre_dict={}\n",
    "for i, g in enumerate(df.genre.unique()):\n",
    "    genre_dict[g]=i"
   ]
  },
  {
   "cell_type": "code",
   "execution_count": 19,
   "metadata": {},
   "outputs": [],
   "source": [
    "df['label']=df.genre.map(lambda x: genre_dict[x])"
   ]
  },
  {
   "cell_type": "code",
   "execution_count": 20,
   "metadata": {},
   "outputs": [],
   "source": [
    "tokens_set=set()\n",
    "for tokens in df.input_ids.values:\n",
    "    tokens_set=tokens_set.union(set(tokens))\n",
    "tokens_dict={}\n",
    "for i, t in enumerate(tokens_set):\n",
    "    tokens_dict[t]=i"
   ]
  },
  {
   "cell_type": "code",
   "execution_count": 21,
   "metadata": {},
   "outputs": [],
   "source": [
    "df['mapped_inputs']=df.input_ids.map(lambda x: [tokens_dict[t] for t in x])"
   ]
  },
  {
   "cell_type": "code",
   "execution_count": 24,
   "metadata": {},
   "outputs": [
    {
     "data": {
      "text/html": [
       "<div>\n",
       "<style scoped>\n",
       "    .dataframe tbody tr th:only-of-type {\n",
       "        vertical-align: middle;\n",
       "    }\n",
       "\n",
       "    .dataframe tbody tr th {\n",
       "        vertical-align: top;\n",
       "    }\n",
       "\n",
       "    .dataframe thead th {\n",
       "        text-align: right;\n",
       "    }\n",
       "</style>\n",
       "<table border=\"1\" class=\"dataframe\">\n",
       "  <thead>\n",
       "    <tr style=\"text-align: right;\">\n",
       "      <th></th>\n",
       "      <th>title</th>\n",
       "      <th>genre</th>\n",
       "      <th>summary</th>\n",
       "      <th>input_ids</th>\n",
       "      <th>att_mask</th>\n",
       "      <th>label</th>\n",
       "      <th>mapped_inputs</th>\n",
       "    </tr>\n",
       "  </thead>\n",
       "  <tbody>\n",
       "    <tr>\n",
       "      <th>0</th>\n",
       "      <td>Drowned Wednesday</td>\n",
       "      <td>fantasy</td>\n",
       "      <td>Drowned Wednesday is the first Trustee among ...</td>\n",
       "      <td>[67, 2053, 276, 29445, 3462, 318, 262, 717, 36...</td>\n",
       "      <td>[1, 1, 1, 1, 1, 1, 1, 1, 1, 1, 1, 1, 1, 1, 1, ...</td>\n",
       "      <td>0</td>\n",
       "      <td>[37, 1722, 165, 17871, 2821, 203, 151, 573, 21...</td>\n",
       "    </tr>\n",
       "    <tr>\n",
       "      <th>1</th>\n",
       "      <td>The Lost Hero</td>\n",
       "      <td>fantasy</td>\n",
       "      <td>As the book opens, Jason awakens on a school ...</td>\n",
       "      <td>[292, 262, 1492, 9808, 11, 474, 888, 3253, 316...</td>\n",
       "      <td>[1, 1, 1, 1, 1, 1, 1, 1, 1, 1, 1, 1, 1, 1, 1, ...</td>\n",
       "      <td>0</td>\n",
       "      <td>[181, 151, 1259, 7200, 11, 341, 732, 2671, 188...</td>\n",
       "    </tr>\n",
       "    <tr>\n",
       "      <th>2</th>\n",
       "      <td>The Eyes of the Overworld</td>\n",
       "      <td>fantasy</td>\n",
       "      <td>Cugel is easily persuaded by the merchant Fia...</td>\n",
       "      <td>[66, 1018, 417, 318, 3538, 25562, 416, 262, 20...</td>\n",
       "      <td>[1, 1, 1, 1, 1, 1, 1, 1, 1, 1, 1, 1, 1, 1, 1, ...</td>\n",
       "      <td>0</td>\n",
       "      <td>[36, 847, 288, 203, 2876, 16024, 287, 151, 135...</td>\n",
       "    </tr>\n",
       "    <tr>\n",
       "      <th>3</th>\n",
       "      <td>Magic's Promise</td>\n",
       "      <td>fantasy</td>\n",
       "      <td>The book opens with Herald-Mage Vanyel return...</td>\n",
       "      <td>[1169, 1492, 9808, 351, 28783, 12, 25561, 410,...</td>\n",
       "      <td>[1, 1, 1, 1, 1, 1, 1, 1, 1, 1, 1, 1, 1, 1, 1, ...</td>\n",
       "      <td>0</td>\n",
       "      <td>[981, 1259, 7200, 232, 17559, 12, 16023, 282, ...</td>\n",
       "    </tr>\n",
       "    <tr>\n",
       "      <th>4</th>\n",
       "      <td>Taran Wanderer</td>\n",
       "      <td>fantasy</td>\n",
       "      <td>Taran and Gurgi have returned to Caer Dallben...</td>\n",
       "      <td>[18870, 272, 290, 308, 3686, 72, 423, 4504, 28...</td>\n",
       "      <td>[1, 1, 1, 1, 1, 1, 1, 1, 1, 1, 1, 1, 1, 1, 1, ...</td>\n",
       "      <td>0</td>\n",
       "      <td>[12576, 161, 179, 197, 2987, 42, 294, 3595, 17...</td>\n",
       "    </tr>\n",
       "    <tr>\n",
       "      <th>...</th>\n",
       "      <td>...</td>\n",
       "      <td>...</td>\n",
       "      <td>...</td>\n",
       "      <td>...</td>\n",
       "      <td>...</td>\n",
       "      <td>...</td>\n",
       "      <td>...</td>\n",
       "    </tr>\n",
       "    <tr>\n",
       "      <th>4652</th>\n",
       "      <td>Hounded</td>\n",
       "      <td>fantasy</td>\n",
       "      <td>Atticus O’Sullivan, last of the Druids, lives ...</td>\n",
       "      <td>[1078, 24552, 267, 447, 247, 82, 16040, 11, 93...</td>\n",
       "      <td>[1, 1, 1, 1, 1, 1, 1, 1, 1, 1, 1, 1, 1, 1, 1, ...</td>\n",
       "      <td>0</td>\n",
       "      <td>[900, 15528, 156, 317, 136, 52, 10964, 11, 780...</td>\n",
       "    </tr>\n",
       "    <tr>\n",
       "      <th>4653</th>\n",
       "      <td>Charlie and the Chocolate Factory</td>\n",
       "      <td>fantasy</td>\n",
       "      <td>Charlie Bucket's wonderful adventure begins wh...</td>\n",
       "      <td>[354, 7063, 494, 19236, 338, 7932, 8855, 6140,...</td>\n",
       "      <td>[1, 1, 1, 1, 1, 1, 1, 1, 1, 1, 1, 1, 1, 1, 1, ...</td>\n",
       "      <td>0</td>\n",
       "      <td>[235, 5369, 361, 12767, 221, 5949, 6556, 4723,...</td>\n",
       "    </tr>\n",
       "    <tr>\n",
       "      <th>4654</th>\n",
       "      <td>Red Rising</td>\n",
       "      <td>fantasy</td>\n",
       "      <td>\"I live for the dream that my children will be...</td>\n",
       "      <td>[1, 72, 2107, 329, 262, 4320, 326, 616, 1751, ...</td>\n",
       "      <td>[1, 1, 1, 1, 1, 1, 1, 1, 1, 1, 1, 1, 1, 1, 1, ...</td>\n",
       "      <td>0</td>\n",
       "      <td>[1, 42, 1767, 213, 151, 3461, 211, 475, 1482, ...</td>\n",
       "    </tr>\n",
       "    <tr>\n",
       "      <th>4655</th>\n",
       "      <td>Frostbite</td>\n",
       "      <td>fantasy</td>\n",
       "      <td>Rose loves Dimitri, Dimitri might love Tasha, ...</td>\n",
       "      <td>[13698, 10408, 5391, 49510, 11, 5391, 49510, 1...</td>\n",
       "      <td>[1, 1, 1, 1, 1, 1, 1, 1, 1, 1, 1, 1, 1, 1, 1, ...</td>\n",
       "      <td>0</td>\n",
       "      <td>[9624, 7583, 4235, 26024, 11, 4235, 26024, 105...</td>\n",
       "    </tr>\n",
       "    <tr>\n",
       "      <th>4656</th>\n",
       "      <td>Radiance</td>\n",
       "      <td>fantasy</td>\n",
       "      <td>The Prince of no value\\nBrishen Khaskem, princ...</td>\n",
       "      <td>[1169, 19716, 286, 645, 1988, 198, 15311, 831,...</td>\n",
       "      <td>[1, 1, 1, 1, 1, 1, 1, 1, 1, 1, 1, 1, 1, 1, 1, ...</td>\n",
       "      <td>0</td>\n",
       "      <td>[981, 13024, 175, 503, 1667, 114, 10552, 681, ...</td>\n",
       "    </tr>\n",
       "  </tbody>\n",
       "</table>\n",
       "<p>4657 rows × 7 columns</p>\n",
       "</div>"
      ],
      "text/plain": [
       "                                  title    genre  \\\n",
       "0                     Drowned Wednesday  fantasy   \n",
       "1                         The Lost Hero  fantasy   \n",
       "2             The Eyes of the Overworld  fantasy   \n",
       "3                       Magic's Promise  fantasy   \n",
       "4                        Taran Wanderer  fantasy   \n",
       "...                                 ...      ...   \n",
       "4652                            Hounded  fantasy   \n",
       "4653  Charlie and the Chocolate Factory  fantasy   \n",
       "4654                         Red Rising  fantasy   \n",
       "4655                          Frostbite  fantasy   \n",
       "4656                           Radiance  fantasy   \n",
       "\n",
       "                                                summary  \\\n",
       "0      Drowned Wednesday is the first Trustee among ...   \n",
       "1      As the book opens, Jason awakens on a school ...   \n",
       "2      Cugel is easily persuaded by the merchant Fia...   \n",
       "3      The book opens with Herald-Mage Vanyel return...   \n",
       "4      Taran and Gurgi have returned to Caer Dallben...   \n",
       "...                                                 ...   \n",
       "4652  Atticus O’Sullivan, last of the Druids, lives ...   \n",
       "4653  Charlie Bucket's wonderful adventure begins wh...   \n",
       "4654  \"I live for the dream that my children will be...   \n",
       "4655  Rose loves Dimitri, Dimitri might love Tasha, ...   \n",
       "4656  The Prince of no value\\nBrishen Khaskem, princ...   \n",
       "\n",
       "                                              input_ids  \\\n",
       "0     [67, 2053, 276, 29445, 3462, 318, 262, 717, 36...   \n",
       "1     [292, 262, 1492, 9808, 11, 474, 888, 3253, 316...   \n",
       "2     [66, 1018, 417, 318, 3538, 25562, 416, 262, 20...   \n",
       "3     [1169, 1492, 9808, 351, 28783, 12, 25561, 410,...   \n",
       "4     [18870, 272, 290, 308, 3686, 72, 423, 4504, 28...   \n",
       "...                                                 ...   \n",
       "4652  [1078, 24552, 267, 447, 247, 82, 16040, 11, 93...   \n",
       "4653  [354, 7063, 494, 19236, 338, 7932, 8855, 6140,...   \n",
       "4654  [1, 72, 2107, 329, 262, 4320, 326, 616, 1751, ...   \n",
       "4655  [13698, 10408, 5391, 49510, 11, 5391, 49510, 1...   \n",
       "4656  [1169, 19716, 286, 645, 1988, 198, 15311, 831,...   \n",
       "\n",
       "                                               att_mask  label  \\\n",
       "0     [1, 1, 1, 1, 1, 1, 1, 1, 1, 1, 1, 1, 1, 1, 1, ...      0   \n",
       "1     [1, 1, 1, 1, 1, 1, 1, 1, 1, 1, 1, 1, 1, 1, 1, ...      0   \n",
       "2     [1, 1, 1, 1, 1, 1, 1, 1, 1, 1, 1, 1, 1, 1, 1, ...      0   \n",
       "3     [1, 1, 1, 1, 1, 1, 1, 1, 1, 1, 1, 1, 1, 1, 1, ...      0   \n",
       "4     [1, 1, 1, 1, 1, 1, 1, 1, 1, 1, 1, 1, 1, 1, 1, ...      0   \n",
       "...                                                 ...    ...   \n",
       "4652  [1, 1, 1, 1, 1, 1, 1, 1, 1, 1, 1, 1, 1, 1, 1, ...      0   \n",
       "4653  [1, 1, 1, 1, 1, 1, 1, 1, 1, 1, 1, 1, 1, 1, 1, ...      0   \n",
       "4654  [1, 1, 1, 1, 1, 1, 1, 1, 1, 1, 1, 1, 1, 1, 1, ...      0   \n",
       "4655  [1, 1, 1, 1, 1, 1, 1, 1, 1, 1, 1, 1, 1, 1, 1, ...      0   \n",
       "4656  [1, 1, 1, 1, 1, 1, 1, 1, 1, 1, 1, 1, 1, 1, 1, ...      0   \n",
       "\n",
       "                                          mapped_inputs  \n",
       "0     [37, 1722, 165, 17871, 2821, 203, 151, 573, 21...  \n",
       "1     [181, 151, 1259, 7200, 11, 341, 732, 2671, 188...  \n",
       "2     [36, 847, 288, 203, 2876, 16024, 287, 151, 135...  \n",
       "3     [981, 1259, 7200, 232, 17559, 12, 16023, 282, ...  \n",
       "4     [12576, 161, 179, 197, 2987, 42, 294, 3595, 17...  \n",
       "...                                                 ...  \n",
       "4652  [900, 15528, 156, 317, 136, 52, 10964, 11, 780...  \n",
       "4653  [235, 5369, 361, 12767, 221, 5949, 6556, 4723,...  \n",
       "4654  [1, 42, 1767, 213, 151, 3461, 211, 475, 1482, ...  \n",
       "4655  [9624, 7583, 4235, 26024, 11, 4235, 26024, 105...  \n",
       "4656  [981, 13024, 175, 503, 1667, 114, 10552, 681, ...  \n",
       "\n",
       "[4657 rows x 7 columns]"
      ]
     },
     "execution_count": 24,
     "metadata": {},
     "output_type": "execute_result"
    }
   ],
   "source": [
    "df.drop(columns='Unnamed: 0', inplace=True)\n",
    "df"
   ]
  },
  {
   "cell_type": "code",
   "execution_count": 25,
   "metadata": {},
   "outputs": [],
   "source": [
    "df.to_parquet('./data/books.par')"
   ]
  }
 ],
 "metadata": {
  "kernelspec": {
   "display_name": "gpu_stuff",
   "language": "python",
   "name": "myenv"
  },
  "language_info": {
   "codemirror_mode": {
    "name": "ipython",
    "version": 3
   },
   "file_extension": ".py",
   "mimetype": "text/x-python",
   "name": "python",
   "nbconvert_exporter": "python",
   "pygments_lexer": "ipython3",
   "version": "3.12.1"
  }
 },
 "nbformat": 4,
 "nbformat_minor": 2
}
